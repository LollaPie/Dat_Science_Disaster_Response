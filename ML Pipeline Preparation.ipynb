{
 "cells": [
  {
   "cell_type": "markdown",
   "metadata": {},
   "source": [
    "# ML Pipeline Preparation\n",
    "Follow the instructions below to help you create your ML pipeline.\n",
    "### 1. Import libraries and load data from database.\n",
    "- Import Python libraries\n",
    "- Load dataset from database with [`read_sql_table`](https://pandas.pydata.org/pandas-docs/stable/generated/pandas.read_sql_table.html)\n",
    "- Define feature and target variables X and Y"
   ]
  },
  {
   "cell_type": "code",
   "execution_count": 13,
   "metadata": {},
   "outputs": [],
   "source": [
    "# !pip install -U pandas"
   ]
  },
  {
   "cell_type": "code",
   "execution_count": 14,
   "metadata": {},
   "outputs": [
    {
     "name": "stdout",
     "output_type": "stream",
     "text": [
      "[nltk_data] Downloading package punkt to /root/nltk_data...\n",
      "[nltk_data]   Package punkt is already up-to-date!\n",
      "[nltk_data] Downloading package stopwords to /root/nltk_data...\n",
      "[nltk_data]   Package stopwords is already up-to-date!\n",
      "[nltk_data] Downloading package wordnet to /root/nltk_data...\n",
      "[nltk_data]   Package wordnet is already up-to-date!\n"
     ]
    }
   ],
   "source": [
    "# import libraries\n",
    "import pandas as pd\n",
    "import re\n",
    "import nltk\n",
    "import numpy as np\n",
    "\n",
    "import sqlite3\n",
    "from sqlalchemy import create_engine\n",
    "\n",
    "from nltk.corpus import stopwords\n",
    "from nltk.tokenize import word_tokenize\n",
    "from nltk.stem.wordnet import WordNetLemmatizer\n",
    "\n",
    "nltk.download('punkt')\n",
    "nltk.download('stopwords')\n",
    "nltk.download('wordnet')\n",
    "\n",
    "from sklearn.pipeline import Pipeline\n",
    "from sklearn.feature_extraction.text import CountVectorizer, TfidfTransformer\n",
    "from sklearn.ensemble import RandomForestClassifier\n",
    "from sklearn.multioutput import MultiOutputClassifier\n",
    "from sklearn.model_selection import train_test_split, GridSearchCV\n",
    "from sklearn.metrics import classification_report, f1_score, log_loss\n",
    "from sklearn.preprocessing import MultiLabelBinarizer\n",
    "\n",
    "from scipy import sparse\n",
    "\n",
    "# from imblearn.combine import SMOTETomek\n",
    "# from imblearn.over_sampling import SMOTE"
   ]
  },
  {
   "cell_type": "code",
   "execution_count": 15,
   "metadata": {},
   "outputs": [],
   "source": [
    "# load data from database\n",
    "# engine = create_engine('sqlite:///InsertDatabaseName.db')\n",
    "conn = sqlite3.connect('InsertDatabaseName.db')\n",
    "query = 'SELECT * FROM InsertTableName'\n",
    "df = pd.read_sql(query, con=conn)\n",
    "X = df['message']\n",
    "Y = df.iloc[:,4:]"
   ]
  },
  {
   "cell_type": "markdown",
   "metadata": {},
   "source": [
    "### 2. Write a tokenization function to process your text data"
   ]
  },
  {
   "cell_type": "code",
   "execution_count": 16,
   "metadata": {},
   "outputs": [],
   "source": [
    "def tokenize(text):\n",
    "    # find urls and replace them with 'urlplaceholder'\n",
    "    url_regex = 'http[s]?://(?:[a-zA-Z]|[0-9]|[$-_@.&+]|[!*\\(\\),]|(?:%[0-9a-fA-F][0-9a-fA-F]))+'\n",
    "    text = re.sub(url_regex, 'urlplaceholder', text)\n",
    "    \n",
    "    # normalize case and remove punctuation\n",
    "    text = re.sub(r\"[^a-zA-Z0-9]\", \" \", text.lower())\n",
    "    \n",
    "    # tokenize text\n",
    "    tokens = word_tokenize(text)\n",
    "    \n",
    "    # lemmatize and remove stop words\n",
    "    stop_words = stopwords.words(\"english\")\n",
    "    lemmatizer = WordNetLemmatizer()\n",
    "    tokens = [lemmatizer.lemmatize(word) for word in tokens if word not in stop_words]\n",
    "    \n",
    "    return tokens"
   ]
  },
  {
   "cell_type": "markdown",
   "metadata": {},
   "source": [
    "### 3. Build a machine learning pipeline\n",
    "This machine pipeline should take in the `message` column as input and output classification results on the other 36 categories in the dataset. You may find the [MultiOutputClassifier](http://scikit-learn.org/stable/modules/generated/sklearn.multioutput.MultiOutputClassifier.html) helpful for predicting multiple target variables."
   ]
  },
  {
   "cell_type": "code",
   "execution_count": 17,
   "metadata": {},
   "outputs": [],
   "source": [
    "pipeline = Pipeline([\n",
    "    ('vect', CountVectorizer(tokenizer=tokenize)),\n",
    "    ('tfidf', TfidfTransformer()),\n",
    "    ('clf', MultiOutputClassifier(RandomForestClassifier()))\n",
    "])"
   ]
  },
  {
   "cell_type": "markdown",
   "metadata": {},
   "source": [
    "### 4. Train pipeline\n",
    "- Split data into train and test sets\n",
    "- Train pipeline"
   ]
  },
  {
   "cell_type": "code",
   "execution_count": 18,
   "metadata": {},
   "outputs": [],
   "source": [
    "# split into train an test sets\n",
    "X_train, X_test, y_train, y_test = train_test_split(X, Y)"
   ]
  },
  {
   "cell_type": "code",
   "execution_count": 19,
   "metadata": {},
   "outputs": [
    {
     "data": {
      "text/plain": [
       "Pipeline(memory=None,\n",
       "     steps=[('vect', CountVectorizer(analyzer='word', binary=False, decode_error='strict',\n",
       "        dtype=<class 'numpy.int64'>, encoding='utf-8', input='content',\n",
       "        lowercase=True, max_df=1.0, max_features=None, min_df=1,\n",
       "        ngram_range=(1, 1), preprocessor=None, stop_words=None,\n",
       "        strip...oob_score=False, random_state=None, verbose=0,\n",
       "            warm_start=False),\n",
       "           n_jobs=1))])"
      ]
     },
     "execution_count": 19,
     "metadata": {},
     "output_type": "execute_result"
    }
   ],
   "source": [
    "model = pipeline\n",
    "model.fit(X_train, y_train)"
   ]
  },
  {
   "cell_type": "markdown",
   "metadata": {},
   "source": [
    "### 5. Test your model\n",
    "Report the f1 score, precision and recall for each output category of the dataset. You can do this by iterating through the columns and calling sklearn's `classification_report` on each."
   ]
  },
  {
   "cell_type": "code",
   "execution_count": 20,
   "metadata": {},
   "outputs": [],
   "source": [
    "y_pred = model.predict(X_test)"
   ]
  },
  {
   "cell_type": "code",
   "execution_count": 21,
   "metadata": {},
   "outputs": [],
   "source": [
    "# transform iterable of iterables to a multilabel format\n",
    "m = MultiLabelBinarizer().fit(np.array(y_test))"
   ]
  },
  {
   "cell_type": "code",
   "execution_count": 22,
   "metadata": {},
   "outputs": [],
   "source": [
    "y_pred_df = pd.DataFrame(y_pred, columns=y_test.columns)"
   ]
  },
  {
   "cell_type": "code",
   "execution_count": 24,
   "metadata": {},
   "outputs": [
    {
     "name": "stderr",
     "output_type": "stream",
     "text": [
      "/opt/conda/lib/python3.6/site-packages/sklearn/metrics/classification.py:1135: UndefinedMetricWarning: Precision and F-score are ill-defined and being set to 0.0 in labels with no predicted samples.\n",
      "  'precision', 'predicted', average, warn_for)\n"
     ]
    },
    {
     "name": "stdout",
     "output_type": "stream",
     "text": [
      "                        precision    recall  f1-score   support\n",
      "\n",
      "               related       0.85      0.91      0.88      5020\n",
      "               request       0.82      0.44      0.57      1135\n",
      "                 offer       0.00      0.00      0.00        27\n",
      "           aid_related       0.76      0.59      0.67      2711\n",
      "          medical_help       0.63      0.10      0.17       533\n",
      "      medical_products       0.67      0.09      0.16       305\n",
      "     search_and_rescue       0.57      0.08      0.13       172\n",
      "              security       0.60      0.03      0.05       120\n",
      "              military       0.51      0.12      0.19       201\n",
      "                 water       0.81      0.20      0.32       415\n",
      "                  food       0.86      0.42      0.56       729\n",
      "               shelter       0.79      0.38      0.51       544\n",
      "              clothing       0.62      0.10      0.17        99\n",
      "                 money       0.50      0.01      0.03       142\n",
      "        missing_people       0.75      0.04      0.07        79\n",
      "              refugees       0.56      0.04      0.08       227\n",
      "                 death       0.73      0.18      0.29       303\n",
      "             other_aid       0.49      0.05      0.09       871\n",
      "infrastructure_related       0.12      0.00      0.00       458\n",
      "             transport       0.63      0.09      0.16       298\n",
      "             buildings       0.85      0.10      0.18       325\n",
      "           electricity       0.60      0.02      0.04       133\n",
      "                 tools       0.00      0.00      0.00        36\n",
      "             hospitals       0.00      0.00      0.00        85\n",
      "                 shops       0.00      0.00      0.00        34\n",
      "           aid_centers       0.00      0.00      0.00        79\n",
      "  other_infrastructure       0.14      0.00      0.01       303\n",
      "       weather_related       0.83      0.62      0.71      1824\n",
      "                floods       0.89      0.40      0.55       535\n",
      "                 storm       0.75      0.39      0.52       593\n",
      "                  fire       0.00      0.00      0.00        60\n",
      "            earthquake       0.89      0.70      0.79       623\n",
      "                  cold       0.60      0.07      0.12       132\n",
      "         other_weather       0.56      0.04      0.07       359\n",
      "         direct_report       0.73      0.32      0.45      1244\n",
      "\n",
      "           avg / total       0.73      0.48      0.54     20754\n",
      "\n",
      "Accuracy of Model: 0.25129691791272507 - bad metrics (!)\n",
      "F1 Score:  0.942236379196\n"
     ]
    }
   ],
   "source": [
    "# print classification report for each feature   \n",
    "print(classification_report(y_test, y_pred, target_names=y_test.keys()))\n",
    "\n",
    "# print accuracy, Note: Accuracy does not work well on imbalanced data sets!\n",
    "print(f\"Accuracy of Model: {model.score(X_test,np.array(y_test))} - bad metrics (!)\")\n",
    "\n",
    "# print f1 score\n",
    "print(\"F1 Score: \", f1_score(m.transform(np.array(y_test)), m.transform(y_pred), average='macro'))"
   ]
  },
  {
   "cell_type": "code",
   "execution_count": 25,
   "metadata": {},
   "outputs": [
    {
     "data": {
      "text/plain": [
       "3.017831260000666"
      ]
     },
     "execution_count": 25,
     "metadata": {},
     "output_type": "execute_result"
    }
   ],
   "source": [
    "# print log los\n",
    "# log loss nearer 0 indicates higher accuracy\n",
    "log_loss(m.transform(np.array(y_test)), m.transform(y_pred))"
   ]
  },
  {
   "cell_type": "markdown",
   "metadata": {},
   "source": [
    "### 6. Improve your model\n",
    "Use grid search to find better parameters. "
   ]
  },
  {
   "cell_type": "code",
   "execution_count": 28,
   "metadata": {},
   "outputs": [
    {
     "data": {
      "text/plain": [
       "dict_keys(['memory', 'steps', 'vect', 'tfidf', 'clf', 'vect__analyzer', 'vect__binary', 'vect__decode_error', 'vect__dtype', 'vect__encoding', 'vect__input', 'vect__lowercase', 'vect__max_df', 'vect__max_features', 'vect__min_df', 'vect__ngram_range', 'vect__preprocessor', 'vect__stop_words', 'vect__strip_accents', 'vect__token_pattern', 'vect__tokenizer', 'vect__vocabulary', 'tfidf__norm', 'tfidf__smooth_idf', 'tfidf__sublinear_tf', 'tfidf__use_idf', 'clf__estimator__bootstrap', 'clf__estimator__class_weight', 'clf__estimator__criterion', 'clf__estimator__max_depth', 'clf__estimator__max_features', 'clf__estimator__max_leaf_nodes', 'clf__estimator__min_impurity_decrease', 'clf__estimator__min_impurity_split', 'clf__estimator__min_samples_leaf', 'clf__estimator__min_samples_split', 'clf__estimator__min_weight_fraction_leaf', 'clf__estimator__n_estimators', 'clf__estimator__n_jobs', 'clf__estimator__oob_score', 'clf__estimator__random_state', 'clf__estimator__verbose', 'clf__estimator__warm_start', 'clf__estimator', 'clf__n_jobs'])"
      ]
     },
     "execution_count": 28,
     "metadata": {},
     "output_type": "execute_result"
    }
   ],
   "source": [
    "model.get_params().keys()"
   ]
  },
  {
   "cell_type": "code",
   "execution_count": 29,
   "metadata": {},
   "outputs": [],
   "source": [
    "parameters = {\n",
    "    'clf__estimator__criterion': ['gini', 'entropy'],\n",
    "    'clf__estimator__min_samples_leaf': [5, 10, 20],\n",
    "    'clf__estimator__max_features': [0.5, 1, \"log2\"]\n",
    "}\n",
    "\n",
    "cv = GridSearchCV(estimator=pipeline, param_grid=parameters, n_jobs=-1)\n",
    "cv.fit(X_train, y_train)\n",
    "y_pred_cv = cv.predict(X_test)"
   ]
  },
  {
   "cell_type": "markdown",
   "metadata": {},
   "source": [
    "### 7. Test your model\n",
    "Show the accuracy, precision, and recall of the tuned model.  \n",
    "\n",
    "Since this project focuses on code quality, process, and  pipelines, there is no minimum performance metric needed to pass. However, make sure to fine tune your models for accuracy, precision and recall to make your project stand out - especially for your portfolio!"
   ]
  },
  {
   "cell_type": "code",
   "execution_count": 30,
   "metadata": {},
   "outputs": [
    {
     "name": "stderr",
     "output_type": "stream",
     "text": [
      "/opt/conda/lib/python3.6/site-packages/sklearn/metrics/classification.py:1135: UndefinedMetricWarning: Precision and F-score are ill-defined and being set to 0.0 in labels with no predicted samples.\n",
      "  'precision', 'predicted', average, warn_for)\n"
     ]
    },
    {
     "name": "stdout",
     "output_type": "stream",
     "text": [
      "                        precision    recall  f1-score   support\n",
      "\n",
      "               related       0.85      0.91      0.88      5020\n",
      "               request       0.82      0.44      0.57      1135\n",
      "                 offer       0.00      0.00      0.00        27\n",
      "           aid_related       0.76      0.59      0.67      2711\n",
      "          medical_help       0.63      0.10      0.17       533\n",
      "      medical_products       0.67      0.09      0.16       305\n",
      "     search_and_rescue       0.57      0.08      0.13       172\n",
      "              security       0.60      0.03      0.05       120\n",
      "              military       0.51      0.12      0.19       201\n",
      "                 water       0.81      0.20      0.32       415\n",
      "                  food       0.86      0.42      0.56       729\n",
      "               shelter       0.79      0.38      0.51       544\n",
      "              clothing       0.62      0.10      0.17        99\n",
      "                 money       0.50      0.01      0.03       142\n",
      "        missing_people       0.75      0.04      0.07        79\n",
      "              refugees       0.56      0.04      0.08       227\n",
      "                 death       0.73      0.18      0.29       303\n",
      "             other_aid       0.49      0.05      0.09       871\n",
      "infrastructure_related       0.12      0.00      0.00       458\n",
      "             transport       0.63      0.09      0.16       298\n",
      "             buildings       0.85      0.10      0.18       325\n",
      "           electricity       0.60      0.02      0.04       133\n",
      "                 tools       0.00      0.00      0.00        36\n",
      "             hospitals       0.00      0.00      0.00        85\n",
      "                 shops       0.00      0.00      0.00        34\n",
      "           aid_centers       0.00      0.00      0.00        79\n",
      "  other_infrastructure       0.14      0.00      0.01       303\n",
      "       weather_related       0.83      0.62      0.71      1824\n",
      "                floods       0.89      0.40      0.55       535\n",
      "                 storm       0.75      0.39      0.52       593\n",
      "                  fire       0.00      0.00      0.00        60\n",
      "            earthquake       0.89      0.70      0.79       623\n",
      "                  cold       0.60      0.07      0.12       132\n",
      "         other_weather       0.56      0.04      0.07       359\n",
      "         direct_report       0.73      0.32      0.45      1244\n",
      "\n",
      "           avg / total       0.73      0.48      0.54     20754\n",
      "\n",
      "Accuracy of Model: 0.25129691791272507 - bad metrics (!)\n",
      "F1 Score:  0.942236379196\n"
     ]
    }
   ],
   "source": [
    "# print classification report for each feature   \n",
    "print(classification_report(y_test, y_pred, target_names=y_test.keys()))\n",
    "\n",
    "# print accuracy, Note: Accuracy does not work well on imbalanced data sets!\n",
    "print(f\"Accuracy of Model: {model.score(X_test,np.array(y_test))} - bad metrics (!)\")\n",
    "\n",
    "# print f1 score\n",
    "print(\"F1 Score: \", f1_score(m.transform(np.array(y_test)), m.transform(y_pred), average='macro'))\n"
   ]
  },
  {
   "cell_type": "code",
   "execution_count": 31,
   "metadata": {},
   "outputs": [
    {
     "data": {
      "text/plain": [
       "2.8817662826368218"
      ]
     },
     "execution_count": 31,
     "metadata": {},
     "output_type": "execute_result"
    }
   ],
   "source": [
    "# print log loss\n",
    "# log loss nearer 0 indicates higher accuracy\n",
    "log_loss(m.transform(np.array(y_test)), m.transform(y_pred_cv))"
   ]
  },
  {
   "cell_type": "code",
   "execution_count": null,
   "metadata": {},
   "outputs": [],
   "source": [
    "cv.best_params_"
   ]
  },
  {
   "cell_type": "markdown",
   "metadata": {},
   "source": [
    "### 8. Try improving your model further. Here are a few ideas:\n",
    "* try other machine learning algorithms\n",
    "* add other features besides the TF-IDF"
   ]
  },
  {
   "cell_type": "code",
   "execution_count": null,
   "metadata": {},
   "outputs": [],
   "source": [
    "# build pipeline\n",
    "pipe_balanced = Pipeline([\n",
    "    ('vect', CountVectorizer(tokenizer=tokenize)),\n",
    "    ('tfidf', TfidfTransformer()),\n",
    "    ('clf', MultiOutputClassifier(RandomForestClassifier(class_weight='balanced')))\n",
    "])"
   ]
  },
  {
   "cell_type": "code",
   "execution_count": null,
   "metadata": {},
   "outputs": [],
   "source": [
    "# fit new model\n",
    "model_b = pipe_balanced\n",
    "model_b.fit(X_train, y_train)"
   ]
  },
  {
   "cell_type": "code",
   "execution_count": null,
   "metadata": {},
   "outputs": [],
   "source": [
    "# test new model\n",
    "y_pred_b = model_b.predict(X_test)"
   ]
  },
  {
   "cell_type": "code",
   "execution_count": null,
   "metadata": {},
   "outputs": [],
   "source": [
    "# print classification report for each row\n",
    "i = 0\n",
    "for index, row in y_test.iterrows():\n",
    "    print(classification_report(row, y_pred_b[i], labels=np.unique(y_pred_b)))\n",
    "    i += 1\n",
    "\n",
    "# print accuracy, Note: Accuracy does not work well on imbalanced data sets!!!\n",
    "print(f\"Accuracy of Model: {model_b.score(X_test,np.array(y_test))} - bad metrics (!)\")\n",
    "\n",
    "# print f1 score\n",
    "print(\"F1 Score: \", f1_score(m.transform(np.array(y_test)), m.transform(y_pred_b), average='macro'))\n",
    "print(i)"
   ]
  },
  {
   "cell_type": "code",
   "execution_count": null,
   "metadata": {},
   "outputs": [],
   "source": [
    "# print log los\n",
    "# log loss nearer 0 indicates higher accuracy\n",
    "log_loss(m.transform(np.array(y_test)), m.transform(y_pred_b))"
   ]
  },
  {
   "cell_type": "markdown",
   "metadata": {},
   "source": [
    "#### 8.1 MLSMOTE"
   ]
  },
  {
   "cell_type": "code",
   "execution_count": null,
   "metadata": {},
   "outputs": [],
   "source": [
    "X_train.head()"
   ]
  },
  {
   "cell_type": "code",
   "execution_count": null,
   "metadata": {},
   "outputs": [],
   "source": [
    "import MLSMOTE"
   ]
  },
  {
   "cell_type": "code",
   "execution_count": null,
   "metadata": {},
   "outputs": [],
   "source": [
    "# initialize vectorizer and tfidt transformer\n",
    "vect = CountVectorizer(tokenizer=tokenize)\n",
    "tfidf = TfidfTransformer()\n",
    "\n",
    "# vectorize and generate tfidf of trainings data\n",
    "X_train_counts = vect.fit_transform(X_train)\n",
    "X_train_tfidf_matrix = tfidf.fit_transform(X_train_counts)\n",
    "\n",
    "# convert matrix into dataframe\n",
    "X_train_tfidf = pd.DataFrame.sparse.from_spmatrix(X_train_tfidf_matrix)"
   ]
  },
  {
   "cell_type": "code",
   "execution_count": null,
   "metadata": {},
   "outputs": [],
   "source": [
    "# Getting minority samples of the dataframe\n",
    "X_sub, y_sub = MLSMOTE.get_minority_instace(X_train_tfidf, y_train)\n",
    "\n",
    "## Generating synthetic samples based on the minority samples\n",
    "#X_res, y_res = mlsmote.MLSMOTE(X_sub, X_sub, 800, 5)"
   ]
  },
  {
   "cell_type": "markdown",
   "metadata": {},
   "source": [
    "### 9. Export your model as a pickle file"
   ]
  },
  {
   "cell_type": "code",
   "execution_count": null,
   "metadata": {},
   "outputs": [],
   "source": []
  },
  {
   "cell_type": "markdown",
   "metadata": {},
   "source": [
    "### 10. Use this notebook to complete `train.py`\n",
    "Use the template file attached in the Resources folder to write a script that runs the steps above to create a database and export a model based on a new dataset specified by the user."
   ]
  },
  {
   "cell_type": "code",
   "execution_count": null,
   "metadata": {},
   "outputs": [],
   "source": []
  }
 ],
 "metadata": {
  "kernelspec": {
   "display_name": "Python 3",
   "language": "python",
   "name": "python3"
  },
  "language_info": {
   "codemirror_mode": {
    "name": "ipython",
    "version": 3
   },
   "file_extension": ".py",
   "mimetype": "text/x-python",
   "name": "python",
   "nbconvert_exporter": "python",
   "pygments_lexer": "ipython3",
   "version": "3.6.3"
  }
 },
 "nbformat": 4,
 "nbformat_minor": 2
}
